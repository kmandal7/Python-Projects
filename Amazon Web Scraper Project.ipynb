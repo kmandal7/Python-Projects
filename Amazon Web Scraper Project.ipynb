{
 "cells": [
  {
   "cell_type": "code",
   "execution_count": 1,
   "id": "9e8fa1fa-7214-4be0-b96e-7da9df3ef559",
   "metadata": {},
   "outputs": [],
   "source": [
    "# import libraries \n",
    "\n",
    "from bs4 import BeautifulSoup\n",
    "import requests\n",
    "import time\n",
    "import datetime\n",
    "\n",
    "#import smtplib"
   ]
  },
  {
   "cell_type": "code",
   "execution_count": 2,
   "id": "f18b33de-779f-4968-ac09-f799443e2c66",
   "metadata": {},
   "outputs": [
    {
     "name": "stdout",
     "output_type": "stream",
     "text": [
      "\n",
      "            Marvel Spider-Man Titan Hero Series Spider-Man 12-Inch-Scale Super Hero Action Figure Toy with Titan Hero FX Port\n",
      "           \n",
      "\n",
      "           Brand: Marvel\n",
      "          \n",
      "\n",
      "                $13.97\n",
      "               \n"
     ]
    }
   ],
   "source": [
    "# Connect to Website and pull in data\n",
    "\n",
    "URL = 'https://www.amazon.ca/Marvel-Spider-Man-12-Inch-Scale-Action-Figure/dp/B07T9CCRK6/ref=sr_1_5?crid=H5ZS9TYAO6TV&dib=eyJ2IjoiMSJ9.__iz_deF_PrZv-264VSn7c67iZocppo3NP4uOEYWniuYL0YraZ4Kfapmp-qgIWdjbqvdH7sBft4MhvHNKj9MOGv_w6aVWJDweYT0J9H0sYz4g-aloFjpB49vnihGbiNwGyv33MqmuH6Gj8gz5QFfv2jyPln6oKAyZDbXaVGU976RuTBLHK5n99wiE9MJN_v3ffKS1iBWt-IcN5qmS9Vk7yRjxNE9z8lnriAqdBNLww3eNml3jWn6vQ74-zFy0pgKi-QCukZ2AMaggXiIzvDDmwu5BwWxt_icxmDE8BGxSks.e040AByrixvWDd78a5lIeoZMkf1qyMJrkxuG5D49dS4&dib_tag=se&keywords=spiderman+toys&qid=1715820886&sprefix=spider%2Caps%2C137&sr=8-5'\n",
    "\n",
    "headers = {\"User-Agent\": \"Mozilla/5.0 (Macintosh; Intel Mac OS X 10_15_7) AppleWebKit/537.36 (KHTML, like Gecko) Chrome/124.0.0.0 Safari/537.36\", \"Accept-Encoding\":\"gzip, deflate\", \"Accept\":\"text/html,application/xhtml+xml,application/xml;q=0.9,*/*;q=0.8\", \"DNT\":\"1\",\"Connection\":\"close\", \"Upgrade-Insecure-Requests\":\"1\"}\n",
    "\n",
    "page = requests.get(URL)\n",
    "\n",
    "#html = urlopen(URL)\n",
    "\n",
    "soup1 = BeautifulSoup(page.content, 'html.parser')\n",
    "\n",
    "soup2 = BeautifulSoup(soup1.prettify(), 'html.parser')\n",
    "\n",
    "#print(soup2)\n",
    "\n",
    "title = soup2.find(id='productTitle').get_text()\n",
    "\n",
    "brand = soup2.find(id='bylineInfo').get_text()\n",
    "\n",
    "price = soup2.find('span', class_='a-offscreen').get_text()\n",
    "\n",
    "\n",
    "print(title)\n",
    "print(brand)\n",
    "print(price)"
   ]
  },
  {
   "cell_type": "code",
   "execution_count": 3,
   "id": "32d2e2d7-e5ff-4fb0-9f07-a36ed5bc0bb0",
   "metadata": {},
   "outputs": [
    {
     "name": "stdout",
     "output_type": "stream",
     "text": [
      "2024-05-22\n"
     ]
    }
   ],
   "source": [
    "# Create a Timestamp for your output to track when data was collected\n",
    "\n",
    "import datetime\n",
    "\n",
    "today = datetime.date.today()\n",
    "\n",
    "print(today)"
   ]
  },
  {
   "cell_type": "code",
   "execution_count": 4,
   "id": "fecebde2-dd73-46f1-817d-b1a895a79d18",
   "metadata": {},
   "outputs": [],
   "source": [
    "# Create CSV and write headers and data into the file\n",
    "\n",
    "import csv \n",
    "\n",
    "header = ['Title', 'Brand', 'Price', 'Date']\n",
    "data = [title, brand, price, today]\n",
    "\n",
    "with open('AmazonWebScraperDataset.csv', 'w', newline='', encoding='UTF8') as f:\n",
    "    writer = csv.writer(f)\n",
    "    writer.writerow(header)\n",
    "    writer.writerow(data)"
   ]
  },
  {
   "cell_type": "code",
   "execution_count": 5,
   "id": "3da012ff-ecc7-4dd4-9afb-99edb5b93239",
   "metadata": {},
   "outputs": [
    {
     "name": "stdout",
     "output_type": "stream",
     "text": [
      "                                               Title  \\\n",
      "0  \\n            Marvel Spider-Man Titan Hero Ser...   \n",
      "\n",
      "                                    Brand  \\\n",
      "0  \\n           Brand: Marvel\\n             \n",
      "\n",
      "                                       Price        Date  \n",
      "0  \\n                $13.97\\n                 2024-05-22  \n"
     ]
    }
   ],
   "source": [
    "import pandas as pd\n",
    "\n",
    "df = pd.read_csv(r'AmazonWebScraperDataset.csv')\n",
    "\n",
    "print(df)"
   ]
  },
  {
   "cell_type": "code",
   "execution_count": 6,
   "id": "a13ab62e-4c51-49fe-854a-716e88aa212d",
   "metadata": {},
   "outputs": [],
   "source": [
    "#Now we are appending data to the csv\n",
    "\n",
    "with open('AmazonWebScraperDataset.csv', 'a+', newline='', encoding='UTF8') as f:\n",
    "     writer = csv.writer(f)\n",
    "     writer.writerow(data)"
   ]
  },
  {
   "cell_type": "code",
   "execution_count": 7,
   "id": "80065199-2cd9-4355-9d2c-d5a977c3e6dd",
   "metadata": {},
   "outputs": [],
   "source": [
    "#Combine all of the above code into one function\n",
    "\n",
    "def check_price():\n",
    "    \n",
    "    URL = 'https://www.amazon.ca/Marvel-Spider-Man-12-Inch-Scale-Action-Figure/dp/B07T9CCRK6/ref=sr_1_5?crid=H5ZS9TYAO6TV&dib=eyJ2IjoiMSJ9.__iz_deF_PrZv-264VSn7c67iZocppo3NP4uOEYWniuYL0YraZ4Kfapmp-qgIWdjbqvdH7sBft4MhvHNKj9MOGv_w6aVWJDweYT0J9H0sYz4g-aloFjpB49vnihGbiNwGyv33MqmuH6Gj8gz5QFfv2jyPln6oKAyZDbXaVGU976RuTBLHK5n99wiE9MJN_v3ffKS1iBWt-IcN5qmS9Vk7yRjxNE9z8lnriAqdBNLww3eNml3jWn6vQ74-zFy0pgKi-QCukZ2AMaggXiIzvDDmwu5BwWxt_icxmDE8BGxSks.e040AByrixvWDd78a5lIeoZMkf1qyMJrkxuG5D49dS4&dib_tag=se&keywords=spiderman+toys&qid=1715820886&sprefix=spider%2Caps%2C137&sr=8-5'\n",
    "\n",
    "# http://httpbin.org/get\n",
    "\n",
    "    headers = {\"User-Agent\": \"Mozilla/5.0 (Macintosh; Intel Mac OS X 10_15_7) AppleWebKit/537.36 (KHTML, like Gecko) Chrome/124.0.0.0 Safari/537.36\", \"Accept-Encoding\":\"gzip, deflate\", \"Accept\":\"text/html,application/xhtml+xml,application/xml;q=0.9,*/*;q=0.8\", \"DNT\":\"1\",\"Connection\":\"close\", \"Upgrade-Insecure-Requests\":\"1\"}\n",
    "\n",
    "page = requests.get(URL,headers= headers)\n",
    "\n",
    "soup1 = BeautifulSoup(page.content, \"html.parser\")\n",
    "\n",
    "soup2 = BeautifulSoup(soup1.prettify(), \"html.parser\")\n",
    "\n",
    "title = soup2.find(id='productTitle').get_text()\n",
    "\n",
    "price = soup2.find('span', class_='a-offscreen').get_text()\n",
    "\n",
    "#price = soup2.find(id='priceblock_ourprice').get_text()\n",
    "    \n",
    "brand = soup2.find(id='bylineInfo').get_text()\n",
    "\n",
    "price = price.strip()[1:]\n",
    "\n",
    "title = title.strip()\n",
    "\n",
    "brand = brand.strip()\n",
    "\n",
    "import datetime\n",
    "\n",
    "today = datetime.date.today()\n",
    "    \n",
    "import csv \n",
    "\n",
    "header = ['Title', 'Brand', 'Price', 'Date']\n",
    "data = [title, brand, price, today]\n",
    "\n",
    "with open('AmazonWebScraperDataset.csv', 'a+', newline='', encoding='UTF8') as f:\n",
    "\n",
    "    writer = csv.writer(f)\n",
    "    writer.writerow(data)\n",
    "    "
   ]
  },
  {
   "cell_type": "code",
   "execution_count": null,
   "id": "e0fef58a-fd2f-432a-98c3-76bfd1d6731f",
   "metadata": {},
   "outputs": [],
   "source": [
    "# Runs check_price after a set time and inputs data into your CSV\n",
    "\n",
    "while(False):\n",
    "    check_price()\n",
    "    time.sleep(86400)"
   ]
  },
  {
   "cell_type": "code",
   "execution_count": 8,
   "id": "65a92ffd-5589-4bff-97f6-2821bffec9f7",
   "metadata": {},
   "outputs": [
    {
     "name": "stdout",
     "output_type": "stream",
     "text": [
      "                                               Title  \\\n",
      "0  \\n            Marvel Spider-Man Titan Hero Ser...   \n",
      "1  \\n            Marvel Spider-Man Titan Hero Ser...   \n",
      "2  Marvel Spider-Man Titan Hero Series Spider-Man...   \n",
      "\n",
      "                                    Brand  \\\n",
      "0  \\n           Brand: Marvel\\n             \n",
      "1  \\n           Brand: Marvel\\n             \n",
      "2                           Brand: Marvel   \n",
      "\n",
      "                                       Price        Date  \n",
      "0  \\n                $13.97\\n                 2024-05-22  \n",
      "1  \\n                $13.97\\n                 2024-05-22  \n",
      "2                                      13.97  2024-05-22  \n"
     ]
    }
   ],
   "source": [
    "import pandas as pd\n",
    "\n",
    "df = pd.read_csv(r'AmazonWebScraperDataset.csv')\n",
    "\n",
    "print(df)"
   ]
  },
  {
   "cell_type": "code",
   "execution_count": null,
   "id": "6a9a54c4-975a-4c9e-b476-c3efa02ffa99",
   "metadata": {},
   "outputs": [],
   "source": []
  },
  {
   "cell_type": "code",
   "execution_count": null,
   "id": "443e84c8-9697-4de2-99ab-3b9815afccbc",
   "metadata": {},
   "outputs": [],
   "source": []
  },
  {
   "cell_type": "code",
   "execution_count": null,
   "id": "5097ceb5-15d1-4761-9755-36c06c650be4",
   "metadata": {},
   "outputs": [],
   "source": []
  }
 ],
 "metadata": {
  "kernelspec": {
   "display_name": "Python 3 (ipykernel)",
   "language": "python",
   "name": "python3"
  },
  "language_info": {
   "codemirror_mode": {
    "name": "ipython",
    "version": 3
   },
   "file_extension": ".py",
   "mimetype": "text/x-python",
   "name": "python",
   "nbconvert_exporter": "python",
   "pygments_lexer": "ipython3",
   "version": "3.11.7"
  }
 },
 "nbformat": 4,
 "nbformat_minor": 5
}
